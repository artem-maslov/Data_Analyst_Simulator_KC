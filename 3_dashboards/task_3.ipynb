{
 "cells": [
  {
   "cell_type": "markdown",
   "id": "358d6825",
   "metadata": {},
   "source": [
    "### task_3-1\n",
    "\n",
    "Подумайте, какие графики, срезы, метрики имеет смысл добавить на дашборды по ленте. С чего начать?"
   ]
  },
  {
   "cell_type": "markdown",
   "id": "1bf0e33b",
   "metadata": {},
   "source": [
    "### solution_3-1\n",
    "\n",
    "Для ленты я создал два дашборда:\n",
    "\n",
    "1. Основные данные (данные за весь период позволяющие отследить динамику пользователей в различных срезах)\n",
    "\n",
    "![](https://github.com/artem-maslov/data_analyst_simulator_KC/blob/main/3_dashboards/task_3_images/feed_main_1_3-1.png?raw=true)\n",
    "![](https://github.com/artem-maslov/data_analyst_simulator_KC/blob/main/3_dashboards/task_3_images/feed_main_p2_3-1.png?raw=true)\n",
    "\n",
    "2. Оперативные данные (real-time data на сегодняшний день для отслеживания аномалий)\n",
    "\n",
    "![](https://github.com/artem-maslov/data_analyst_simulator_KC/blob/main/3_dashboards/task_3_images/feed_real-time_3-1.png?raw=true)"
   ]
  },
  {
   "cell_type": "markdown",
   "id": "a85e0b9c",
   "metadata": {},
   "source": [
    "### task_3-2\n",
    "\n",
    "Нужно составить дашборд, который описывает взаимодействие двух сервисов — ленты и сообщений. \n",
    "\n",
    "Постарайтесь при помощи дашборда ответить на следующие вопросы:\n",
    "\n",
    "1. Какая у нашего приложения активная аудитория по дням, т.е. пользователи, которые пользуются и лентой новостей, и сервисом сообщений. \n",
    "\n",
    "2. Сколько пользователей использует только ленту новостей и не пользуются сообщениями.   \n",
    "\n",
    "Какие еще вопросы вы бы хотели исследовать о связи двух продуктов?"
   ]
  },
  {
   "cell_type": "markdown",
   "id": "8c42e366",
   "metadata": {},
   "source": [
    "### solution_3-2\n",
    "\n",
    "Для приложения я ограничился одним дашбордом, чтобы не дублировать информацию с предыдущего задания и не перегружать повторяющимися данными этот ноутбук.\n",
    "\n",
    "На дашборд помимо графиков вывел числовые значения, овечающие на вопросы задания. Вы можете заметить, что есть big number с пользователями только в мессендежере в колчестве 4 человека. Конечно, в размерах нашего приложения это незначительный показатель. Однака, я его все равно вывел в рамках задания, чтобы показать свою внимательность к мелочам.  \n",
    "\n",
    "![](https://github.com/artem-maslov/data_analyst_simulator_KC/blob/main/3_dashboards/task_3_images/app_main_p1_3-2.png?raw=true)\n",
    "\n",
    "![](https://github.com/artem-maslov/data_analyst_simulator_KC/blob/main/3_dashboards/task_3_images/app_main__p2_3-2.png?raw=true)"
   ]
  }
 ],
 "metadata": {
  "kernelspec": {
   "display_name": "Python 3 (ipykernel)",
   "language": "python",
   "name": "python3"
  },
  "language_info": {
   "codemirror_mode": {
    "name": "ipython",
    "version": 3
   },
   "file_extension": ".py",
   "mimetype": "text/x-python",
   "name": "python",
   "nbconvert_exporter": "python",
   "pygments_lexer": "ipython3",
   "version": "3.9.13"
  }
 },
 "nbformat": 4,
 "nbformat_minor": 5
}
