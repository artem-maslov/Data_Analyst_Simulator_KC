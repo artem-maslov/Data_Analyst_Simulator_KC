{
 "cells": [
  {
   "cell_type": "markdown",
   "id": "b18afd2d",
   "metadata": {},
   "source": [
    "### task_7-1\n",
    "\n",
    "Отчет по ленте\n",
    "\n",
    "Напишите скрипт для сборки отчета по ленте новостей. Отчет должен состоять из двух частей:\n",
    "\n",
    "* текст с информацией о значениях ключевых метрик за предыдущий день\n",
    "* график с значениями метрик за предыдущие 7 дней\n",
    "\n",
    "Отобразите в отчете следующие ключевые метрики: \n",
    "\n",
    "* DAU \n",
    "* Просмотры\n",
    "* Лайки\n",
    "* CTR\n",
    "\n",
    "Автоматизируйте отправку отчета с помощью Airflow. Код для сборки отчета разместите в GitLab. Отчет должен приходить ежедневно в 11:00 в чат. "
   ]
  },
  {
   "cell_type": "markdown",
   "id": "3e8cdd31",
   "metadata": {},
   "source": [
    "### solution_7-1\n",
    "\n",
    "Скрипт .py для airflow представлен в данной директории. Для удобства оценки конечного результата, прилагаю сюда скриншоты рабочего дага и сообщений из телеграм. \n",
    "\n",
    "Статус дага:\n",
    "\n",
    "![airflow_status_7-1.png](https://github.com/artem-maslov/data_analyst_simulator_KC/blob/main/7_reports_automatization/task_7_images/airflow_status_7-1.png?raw=true)\n",
    "\n",
    "Дерево дага:\n",
    "\n",
    "![airflow_tree_7-1.png](https://github.com/artem-maslov/data_analyst_simulator_KC/blob/main/7_reports_automatization/task_7_images/airflow_tree_7-1.png?raw=true)\n",
    "\n",
    "Отчет из телеграм:\n",
    "\n",
    "![](https://github.com/artem-maslov/data_analyst_simulator_KC/blob/main/7_reports_automatization/task_7_images/message_7-1.png?raw=true)\n",
    "![](https://github.com/artem-maslov/data_analyst_simulator_KC/blob/main/7_reports_automatization/task_7_images/message_plots_7-1.png?raw=true)"
   ]
  },
  {
   "cell_type": "markdown",
   "id": "e54d1220",
   "metadata": {},
   "source": [
    "### task_7-2\n",
    "\n",
    "Отчет по приложению\n",
    "\n",
    "Соберите единый отчет по работе всего приложения. В отчете должна быть информация и по ленте новостей, и по сервису отправки сообщений. \n",
    "\n",
    "Продумайте, какие метрики необходимо отобразить в этом отчете? Как можно показать их динамику? Приложите к отчету графики или файлы, чтобы сделать его более наглядным и информативным. Отчет должен быть не просто набором графиков или текста, а помогать отвечать бизнесу на вопросы о работе всего приложения совокупно. \n",
    "\n",
    "Автоматизируйте отправку отчета с помощью Airflow. Код для сборки отчета разместите в GitLab. Отчет должен приходить ежедневно в 11:00 в чат. \n",
    "\n"
   ]
  },
  {
   "cell_type": "markdown",
   "id": "12a63139",
   "metadata": {},
   "source": [
    "### solution_7-2\n",
    "\n",
    "Статус дага:\n",
    "![](https://github.com/artem-maslov/data_analyst_simulator_KC/blob/main/7_reports_automatization/task_7_images/airflow_status_7-2.png?raw=true)\n",
    "\n",
    "Дерево дага:\n",
    "![](https://github.com/artem-maslov/data_analyst_simulator_KC/blob/main/7_reports_automatization/task_7_images/airflow_tree_7-2.png?raw=true)\n",
    "\n",
    "Отчет из телеграм:\n",
    "![](https://github.com/artem-maslov/data_analyst_simulator_KC/blob/main/7_reports_automatization/task_7_images/message_7-2.png?raw=true)\n",
    "\n",
    "![](https://github.com/artem-maslov/data_analyst_simulator_KC/blob/main/7_reports_automatization/task_7_images/message_DAU_7-2.png?raw=true)\n",
    "\n",
    "![](https://github.com/artem-maslov/data_analyst_simulator_KC/blob/main/7_reports_automatization/task_7_images/message_actions_7-2.png?raw=true)\n",
    "\n",
    "![](https://github.com/artem-maslov/data_analyst_simulator_KC/blob/main/7_reports_automatization/task_7_images/message_retention_feed_7-2.png?raw=true)\n",
    "\n",
    "![](https://github.com/artem-maslov/data_analyst_simulator_KC/blob/main/7_reports_automatization/task_7_images/message_retention_messenger_7-2.png?raw=true)\n",
    "\n",
    "![](https://github.com/artem-maslov/data_analyst_simulator_KC/blob/main/7_reports_automatization/task_7_images/message_cohorts_feed_7-2.png?raw=true)\n",
    "\n",
    "![](https://github.com/artem-maslov/data_analyst_simulator_KC/blob/main/7_reports_automatization/task_7_images/message_cohorts_messenger_7-2.png?raw=true)"
   ]
  }
 ],
 "metadata": {
  "kernelspec": {
   "display_name": "Python 3 (ipykernel)",
   "language": "python",
   "name": "python3"
  },
  "language_info": {
   "codemirror_mode": {
    "name": "ipython",
    "version": 3
   },
   "file_extension": ".py",
   "mimetype": "text/x-python",
   "name": "python",
   "nbconvert_exporter": "python",
   "pygments_lexer": "ipython3",
   "version": "3.9.13"
  }
 },
 "nbformat": 4,
 "nbformat_minor": 5
}
