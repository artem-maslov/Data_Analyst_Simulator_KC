{
 "cells": [
  {
   "cell_type": "markdown",
   "id": "965ae23f",
   "metadata": {},
   "source": [
    "### task_4-1\n",
    "\n",
    "В наших данных использования ленты новостей есть два типа юзеров: те, кто пришел через платный трафик source = 'ads', и те, кто пришел через органические каналы source = 'organic'.\n",
    "\n",
    "Ваша задача — проанализировать и сравнить Retention этих двух групп пользователей. Решением этой задачи будет ответ на вопрос: отличается ли характер использования приложения у этих групп пользователей. "
   ]
  },
  {
   "cell_type": "markdown",
   "id": "ee13e460",
   "metadata": {},
   "source": [
    "### solution_4-1\n",
    "\n",
    "Составив отдельные heat map для каждой группы пользователей по source, я определил, что характер использования приложения за последние 3 недели у этих групп отличается. На дашборде видно, что у группы source = 'ads' больше темных ячеек, что говорит о более высоком показателе retention. Можно сделать вывод, что пользователи, которые пришли по рекламе остаются в нашем приложении более длительный срок. Для увереннсоти я дополнительно для каждого источника рассчитал средний показатель retention по дня и за весь период, который явно показывает, что у source = 'ads' retention больше.\n",
    "\n",
    "![S_retention_ads_4-1.png](https://github.com/artem-maslov/data_analyst_simulator_KC/blob/main/4_analysis_of_product_metrics/task_4_images/S_retention_ads_4-1.png?raw=true)\n",
    "\n",
    "![S_retention_organic_4-1.png](https://github.com/artem-maslov/data_analyst_simulator_KC/blob/main/4_analysis_of_product_metrics/task_4_images/S_retention_organic_4-1.png?raw=true)"
   ]
  },
  {
   "cell_type": "markdown",
   "id": "6c25f146",
   "metadata": {},
   "source": [
    "### task_4-2\n",
    "\n",
    "Маркетологи запустили массивную рекламную кампанию, в результате в приложение пришло довольно много новых пользователей, вы можете видеть всплеск на графике активной аудитории.\n",
    "\n",
    "![T_4-2.jpg](https://github.com/artem-maslov/data_analyst_simulator_KC/blob/main/4_analysis_of_product_metrics/task_4_images/T_4-2.jpg?raw=true)"
   ]
  },
  {
   "cell_type": "markdown",
   "id": "00e7e008",
   "metadata": {},
   "source": [
    "### solution_4-2\n",
    "\n",
    "Изучив график DAU видно, что 14 января был резкий скачок активных пользователей с 16,4к до 19,1к о чем свидетельствует запуск рекламной кампании.\n",
    "\n",
    "![S_DAU_4-2.png](https://github.com/artem-maslov/data_analyst_simulator_KC/blob/main/4_analysis_of_product_metrics/task_4_images/S_DAU_4-2.png?raw=true)\n",
    "\n",
    "Однако, на дашборте с retention source = 'ads' видно, что это самый низкий retention из всех. Уже на второй день из 3,69 новых пользователей зашло только 106, По цвету ячеек видно, что и далее retention пользователей с рекламной кампании только падает. Можно сделать вывод, что рекламная кампания оказалось не эффективной. \n",
    "\n",
    "\n",
    "![S_retention_ads_4-2.png](https://github.com/artem-maslov/data_analyst_simulator_KC/blob/main/4_analysis_of_product_metrics/task_4_images/S_retention_ads_4-2.png?raw=true)\n",
    "\n"
   ]
  },
  {
   "cell_type": "markdown",
   "id": "a7ed6b42",
   "metadata": {},
   "source": [
    "### task_4-3\n",
    "\n",
    "Мы наблюдаем внезапное падение активной аудитории! Нужно разобраться, какие пользователи не смогли зайти в приложение, что их объединяет? \n",
    "\n",
    "![T_4-3.jpg](https://github.com/artem-maslov/data_analyst_simulator_KC/blob/main/4_analysis_of_product_metrics/task_4_images/T_4-3.jpg?raw=true)"
   ]
  },
  {
   "cell_type": "markdown",
   "id": "30f427ab",
   "metadata": {},
   "source": [
    "### solution_4-3\n",
    "\n",
    "В процессе исследования, сначала я обратил внимание на DAY и даты, когда было падение. Я заметил, что 22 января число пользователей было нормальным 17.1к, однако 23 января показатель резко упал до 14.1к. \n",
    "\n",
    "В ходе эксперимента я сравнивал разные метрики в день падения и день до него. Обнаружил, что в день падения процентное соотношение пользователей из РФ меньше, чем до. Потом группировал по городам и смотрел, где аномалии. Оказалось, что 23 января не смогли зайти пользователи из Москвы, Санкт-Петербурга, Новосибирска и Екатеринбурга. Суммарно эти 4 города за день до аномалии дают 3,5к (23%) пользователей, что как раз и укладывается в разрыв. \n",
    "\n",
    "![S_search_anomalies_4-3.png](https://github.com/artem-maslov/data_analyst_simulator_KC/blob/main/4_analysis_of_product_metrics/task_4_images/S_search_anomalies_4-3.png?raw=true)\n"
   ]
  },
  {
   "cell_type": "markdown",
   "id": "6269c91c",
   "metadata": {},
   "source": [
    "### task_4-4\n",
    "\n",
    "В лекции я показывал график, который позволяет взглянуть на активную аудиторию с точки зрения новых, старых и ушедших пользователей. Попробуйте самостоятельно построить такой график:\n",
    "\n",
    "![task_4-4.jpg](https://github.com/artem-maslov/data_analyst_simulator_KC/blob/main/4_analysis_of_product_metrics/task_4_images/T_4-4.jpg?raw=true)\n"
   ]
  },
  {
   "cell_type": "markdown",
   "id": "3dbecc9b",
   "metadata": {},
   "source": [
    "### solution_4-4\n",
    "\n",
    "![S_weekly_audience_4-4.png](https://github.com/artem-maslov/data_analyst_simulator_KC/blob/main/4_analysis_of_product_metrics/task_4_images/S_weekly_audience_4-4.png?raw=true)"
   ]
  }
 ],
 "metadata": {
  "kernelspec": {
   "display_name": "Python 3 (ipykernel)",
   "language": "python",
   "name": "python3"
  },
  "language_info": {
   "codemirror_mode": {
    "name": "ipython",
    "version": 3
   },
   "file_extension": ".py",
   "mimetype": "text/x-python",
   "name": "python",
   "nbconvert_exporter": "python",
   "pygments_lexer": "ipython3",
   "version": "3.9.13"
  }
 },
 "nbformat": 4,
 "nbformat_minor": 5
}
