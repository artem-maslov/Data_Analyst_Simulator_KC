{
 "cells": [
  {
   "cell_type": "markdown",
   "id": "671300d9",
   "metadata": {},
   "source": [
    "### task_8\n",
    "\n",
    "Cистема алертов для нашего приложения\n",
    "\n",
    "Система должна с периодичность каждые 15 минут проверять ключевые метрики, такие как активные пользователи в ленте / мессенджере, просмотры, лайки, CTR, количество отправленных сообщений. \n",
    "\n",
    "Изучите поведение метрик и подберите наиболее подходящий метод для детектирования аномалий. На практике как правило применяются статистические методы. \n",
    "В самом простом случае можно, например, проверять отклонение значения метрики в текущую 15-минутку от значения в такую же 15-минутку день назад. \n",
    "\n",
    "В случае обнаружения аномального значения, в чат должен отправиться алерт - сообщение со следующей информацией: метрика, ее значение, величина отклонения.\n",
    "В сообщение можно добавить дополнительную информацию, которая поможет при исследовании причин возникновения аномалии, это может быть, например,  график, ссылки на дашборд/чарт в BI системе. "
   ]
  },
  {
   "cell_type": "markdown",
   "id": "050f90ba",
   "metadata": {},
   "source": [
    "### solution_8\n",
    "\n",
    "Скрипт .py для airflow представлен в данной директории. Для удобства оценки конечного результата, прилагаю сюда скриншоты рабочего дага и сообщений из телеграм. \n",
    "\n",
    "Статус дага:\n",
    "![](https://github.com/artem-maslov/data_analyst_simulator_KC/blob/main/8_anomaly_search_alert_system/task_8_images/airflow_status_8.png?raw=true)\n",
    "\n",
    "Дерево дага:\n",
    "![](https://github.com/artem-maslov/data_analyst_simulator_KC/blob/main/8_anomaly_search_alert_system/task_8_images/airflow_tree_8.png?raw=true)\n",
    "\n",
    "Отчет из телеграм:\n",
    "![](https://github.com/artem-maslov/data_analyst_simulator_KC/blob/main/8_anomaly_search_alert_system/task_8_images/alert_8.png?raw=true)"
   ]
  }
 ],
 "metadata": {
  "kernelspec": {
   "display_name": "Python 3 (ipykernel)",
   "language": "python",
   "name": "python3"
  },
  "language_info": {
   "codemirror_mode": {
    "name": "ipython",
    "version": 3
   },
   "file_extension": ".py",
   "mimetype": "text/x-python",
   "name": "python",
   "nbconvert_exporter": "python",
   "pygments_lexer": "ipython3",
   "version": "3.9.13"
  }
 },
 "nbformat": 4,
 "nbformat_minor": 5
}
