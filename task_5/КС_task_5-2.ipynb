{
 "cells": [
  {
   "cell_type": "markdown",
   "id": "f65986bf",
   "metadata": {},
   "source": [
    "# Проведение AB-теста\n",
    "\n",
    "Пришло время проанализировать результаты эксперимента, который мы провели вместе с командой дата сайентистов. Эксперимент проходил с 2023-01-01 по 2023-01-07 включительно. Для эксперимента были задействованы 2 и 1 группы. \n",
    "\n",
    "В группе 2 был использован один из новых алгоритмов рекомендации постов, группа 1 использовалась в качестве контроля. \n",
    "\n",
    "Основная гипотеза заключается в том, что новый алгоритм во 2-й группе приведет к увеличению CTR. \n",
    "\n",
    "Ваша задача — проанализировать данные АB-теста. \n",
    "\n",
    "1. Выбрать метод анализа и сравнить CTR в двух группах (мы разбирали t-тест, Пуассоновский бутстреп, тест Манна-Уитни, t-тест на сглаженном ctr (α=5) а также t-тест и тест Манна-Уитни поверх бакетного преобразования).\n",
    "2. Сравните данные этими тестами. А еще посмотрите на распределения глазами. Почему тесты сработали так как сработали? \n",
    "3. Опишите потенциальную ситуацию, когда такое изменение могло произойти. Тут нет идеального ответа, подумайте.\n",
    "4. Напишите рекомендацию, будем ли мы раскатывать новый алгоритм на всех новых пользователей или все-таки не стоит.\n"
   ]
  },
  {
   "cell_type": "markdown",
   "id": "8c36b2f4",
   "metadata": {},
   "source": [
    "## Загрузка данных"
   ]
  },
  {
   "cell_type": "code",
   "execution_count": 1,
   "id": "c11c631f",
   "metadata": {},
   "outputs": [],
   "source": [
    "### импортирую необходимые библиотеки\n",
    "\n",
    "import pandahouse as ph\n",
    "import pandas as pd\n",
    "import seaborn as sns\n",
    "import matplotlib.pyplot as plt\n",
    "import numpy as np\n",
    "from scipy import stats"
   ]
  },
  {
   "cell_type": "code",
   "execution_count": 57,
   "id": "cfbedbf5",
   "metadata": {
    "scrolled": true
   },
   "outputs": [
    {
     "data": {
      "text/html": [
       "<div>\n",
       "<style scoped>\n",
       "    .dataframe tbody tr th:only-of-type {\n",
       "        vertical-align: middle;\n",
       "    }\n",
       "\n",
       "    .dataframe tbody tr th {\n",
       "        vertical-align: top;\n",
       "    }\n",
       "\n",
       "    .dataframe thead th {\n",
       "        text-align: right;\n",
       "    }\n",
       "</style>\n",
       "<table border=\"1\" class=\"dataframe\">\n",
       "  <thead>\n",
       "    <tr style=\"text-align: right;\">\n",
       "      <th></th>\n",
       "      <th>exp_group</th>\n",
       "      <th>user_id</th>\n",
       "      <th>likes</th>\n",
       "      <th>views</th>\n",
       "      <th>ctr</th>\n",
       "    </tr>\n",
       "  </thead>\n",
       "  <tbody>\n",
       "    <tr>\n",
       "      <th>0</th>\n",
       "      <td>1</td>\n",
       "      <td>109963</td>\n",
       "      <td>3</td>\n",
       "      <td>15</td>\n",
       "      <td>0.200000</td>\n",
       "    </tr>\n",
       "    <tr>\n",
       "      <th>1</th>\n",
       "      <td>1</td>\n",
       "      <td>26117</td>\n",
       "      <td>32</td>\n",
       "      <td>141</td>\n",
       "      <td>0.226950</td>\n",
       "    </tr>\n",
       "    <tr>\n",
       "      <th>2</th>\n",
       "      <td>1</td>\n",
       "      <td>138232</td>\n",
       "      <td>18</td>\n",
       "      <td>73</td>\n",
       "      <td>0.246575</td>\n",
       "    </tr>\n",
       "    <tr>\n",
       "      <th>3</th>\n",
       "      <td>1</td>\n",
       "      <td>26295</td>\n",
       "      <td>33</td>\n",
       "      <td>122</td>\n",
       "      <td>0.270492</td>\n",
       "    </tr>\n",
       "    <tr>\n",
       "      <th>4</th>\n",
       "      <td>1</td>\n",
       "      <td>18392</td>\n",
       "      <td>7</td>\n",
       "      <td>32</td>\n",
       "      <td>0.218750</td>\n",
       "    </tr>\n",
       "  </tbody>\n",
       "</table>\n",
       "</div>"
      ],
      "text/plain": [
       "   exp_group  user_id  likes  views       ctr\n",
       "0          1   109963      3     15  0.200000\n",
       "1          1    26117     32    141  0.226950\n",
       "2          1   138232     18     73  0.246575\n",
       "3          1    26295     33    122  0.270492\n",
       "4          1    18392      7     32  0.218750"
      ]
     },
     "execution_count": 57,
     "metadata": {},
     "output_type": "execute_result"
    }
   ],
   "source": [
    "### подключаюсь к БД\n",
    "\n",
    "connection = {\n",
    "                'host': 'https://clickhouse.lab.karpov.courses',\n",
    "                'password': 'dpo_python_2020',\n",
    "                'user': 'student',\n",
    "                'database': 'simulator_20230120'\n",
    "              }\n",
    "\n",
    "\n",
    "### вывожу нужный датафрейм по датам и группам\n",
    "\n",
    "query = '''\n",
    "            SELECT exp_group, \n",
    "                user_id,\n",
    "                sum(action = 'like') as likes,\n",
    "                sum(action = 'view') as views,\n",
    "                likes/views as ctr\n",
    "            FROM {db}.feed_actions \n",
    "            WHERE toDate(time) between '2023-01-01' and '2023-01-07'\n",
    "                and exp_group in (1,2)\n",
    "            GROUP BY exp_group, user_id\n",
    "        '''\n",
    "\n",
    "df = ph.read_clickhouse(query, connection=connection)\n",
    "df.head()"
   ]
  },
  {
   "cell_type": "markdown",
   "id": "49d5dc4c",
   "metadata": {},
   "source": [
    "## 1. t-тест\n",
    "\n",
    "* H0 - средние значения CTR в контрольной и экспериментальной группaх равны.\n",
    "* H1 - средние значения CTR в тестовой группе выше, чем в контрольной. "
   ]
  },
  {
   "cell_type": "code",
   "execution_count": 43,
   "id": "69c12bef",
   "metadata": {},
   "outputs": [
    {
     "data": {
      "text/plain": [
       "Ttest_indResult(statistic=-0.7094392041270486, pvalue=0.4780623130874935)"
      ]
     },
     "execution_count": 43,
     "metadata": {},
     "output_type": "execute_result"
    }
   ],
   "source": [
    "stats.ttest_ind(df[df.exp_group == 2].ctr, \n",
    "                df[df.exp_group == 1].ctr,\n",
    "                equal_var=False)"
   ]
  },
  {
   "cell_type": "markdown",
   "id": "5e199c24",
   "metadata": {},
   "source": [
    "t-тест проведен и он показывает, что отличия незначительны, т.к. p-value > 0,05. Значит мы не можем отвергнуть Н0 о том, что средние значения CTR в тестовой группе не отличается от контрольной."
   ]
  },
  {
   "cell_type": "code",
   "execution_count": 44,
   "id": "e3b76018",
   "metadata": {
    "scrolled": false
   },
   "outputs": [
    {
     "data": {
      "image/png": "[encoded data removed]",
      "text/plain": [
       "<Figure size 900x600 with 1 Axes>"
      ]
     },
     "metadata": {},
     "output_type": "display_data"
    }
   ],
   "source": [
    "### делаю визуальную проверку через гистограмму\n",
    "\n",
    "groups = sns.histplot(data = df, \n",
    "                      x='ctr', \n",
    "                      hue='exp_group', \n",
    "                      palette = ['r', 'b'],\n",
    "                      alpha=0.5,\n",
    "                      kde=False)\n",
    "\n",
    "### делаю гистограмму побольше\n",
    "\n",
    "sns.set(rc={'figure.figsize':(9, 6)})"
   ]
  },
  {
   "cell_type": "markdown",
   "id": "73005e5f",
   "metadata": {},
   "source": [
    "На гистограмме видно, что есть отличия, однако, у группы 2 бимодальное распределение. Значит, t-тест не дает нам достоверную информацию. "
   ]
  },
  {
   "cell_type": "markdown",
   "id": "01c73b9b",
   "metadata": {},
   "source": [
    "## 2. Тест Манна-Уитни"
   ]
  },
  {
   "cell_type": "code",
   "execution_count": 45,
   "id": "37fda98e",
   "metadata": {},
   "outputs": [
    {
     "data": {
      "text/plain": [
       "MannwhitneyuResult(statistic=43704947.5, pvalue=6.0376484617779035e-56)"
      ]
     },
     "execution_count": 45,
     "metadata": {},
     "output_type": "execute_result"
    }
   ],
   "source": [
    "stats.mannwhitneyu(df[df.exp_group == 2].ctr, \n",
    "                   df[df.exp_group == 1].ctr,\n",
    "                   alternative = 'two-sided')"
   ]
  },
  {
   "cell_type": "markdown",
   "id": "6e621a12",
   "metadata": {},
   "source": [
    "Тест Манна-Уитни показывает мне обратную информацию, здесь видно, что p-value <<< 0,05. Данный тест позволяет отвергунть Н0. Так как два теста дали два разных результата, перехожу к повышению чувствительности метрики. Для этого воспользуюсь следующим тестом. "
   ]
  },
  {
   "cell_type": "markdown",
   "id": "357b66e1",
   "metadata": {},
   "source": [
    "## 3. Делаю тест на сглаживание CTR"
   ]
  },
  {
   "cell_type": "code",
   "execution_count": 46,
   "id": "0c837a7b",
   "metadata": {},
   "outputs": [],
   "source": [
    "### формирую функцию для теста\n",
    "\n",
    "def get_smothed_ctr(user_likes, user_views, global_ctr, alpha):\n",
    "    smothed_ctr = (user_likes + alpha * global_ctr) / (user_views + alpha)\n",
    "    return smothed_ctr"
   ]
  },
  {
   "cell_type": "code",
   "execution_count": 59,
   "id": "4c4610df",
   "metadata": {},
   "outputs": [],
   "source": [
    "### добавляю столбец smothed_ctr \n",
    "\n",
    "df.loc[df['exp_group'] == 1, 'smothed_ctr'] = df.apply(lambda x: get_smothed_ctr(x['likes'], x['views'], global_ctr_1, 5), axis = 1)\n",
    "df.loc[df['exp_group'] == 2, 'smothed_ctr'] = df.apply(lambda x: get_smothed_ctr(x['likes'], x['views'], global_ctr_2, 5), axis = 1)"
   ]
  },
  {
   "cell_type": "code",
   "execution_count": 72,
   "id": "114d0928",
   "metadata": {},
   "outputs": [
    {
     "data": {
      "text/plain": [
       "<AxesSubplot:xlabel='smothed_ctr', ylabel='Count'>"
      ]
     },
     "execution_count": 72,
     "metadata": {},
     "output_type": "execute_result"
    },
    {
     "data": {
      "image/png": "[encoded data removed]",
      "text/plain": [
       "<Figure size 900x400 with 2 Axes>"
      ]
     },
     "metadata": {},
     "output_type": "display_data"
    }
   ],
   "source": [
    "### сравниваю сглаженные значения CTR\n",
    "\n",
    "f, axs = plt.subplots(1,2, figsize=(9, 4))\n",
    "sns.histplot(df, x='ctr', hue='exp_group', palette=['r','b'], ax=axs[0])\n",
    "sns.histplot(df, x='smothed_ctr', hue='exp_group', palette=['r','b'], ax=axs[1])"
   ]
  },
  {
   "cell_type": "code",
   "execution_count": 73,
   "id": "5683a57a",
   "metadata": {},
   "outputs": [
    {
     "name": "stdout",
     "output_type": "stream",
     "text": [
      "Ttest_indResult(statistic=-2.2841320431616983, pvalue=0.022376981555855876) со сглаженным ctr\n",
      "Ttest_indResult(statistic=-0.7094392041270486, pvalue=0.4780623130874935) с обычным ctr\n"
     ]
    }
   ],
   "source": [
    "### делаю t-тест со обычным и сглаженным ctr\n",
    "\n",
    "print(stats.ttest_ind(df[df.exp_group == 2].smothed_ctr, \n",
    "                    df[df.exp_group == 1].smothed_ctr,\n",
    "                    equal_var=False), 'со сглаженным ctr')\n",
    "\n",
    "print(stats.ttest_ind(df[df.exp_group == 2].ctr, \n",
    "                    df[df.exp_group == 1].ctr,\n",
    "                    equal_var=False), 'с обычным ctr')"
   ]
  },
  {
   "cell_type": "code",
   "execution_count": 74,
   "id": "b32ed766",
   "metadata": {},
   "outputs": [
    {
     "name": "stdout",
     "output_type": "stream",
     "text": [
      "MannwhitneyuResult(statistic=43381083.0, pvalue=1.6163964114270227e-61) со сглаженным ctr\n",
      "MannwhitneyuResult(statistic=43704947.5, pvalue=6.0376484617779035e-56) с обычным ctr\n"
     ]
    }
   ],
   "source": [
    "### делаю Манна-Уитни со сглаженным ctr\n",
    "\n",
    "print(stats.mannwhitneyu(df[df.exp_group == 2].smothed_ctr, \n",
    "                        df[df.exp_group == 1].smothed_ctr,\n",
    "                        alternative = 'two-sided'), 'со сглаженным ctr')\n",
    "\n",
    "print(stats.mannwhitneyu(df[df.exp_group == 2].ctr, \n",
    "                        df[df.exp_group == 1].ctr,\n",
    "                        alternative = 'two-sided'), 'с обычным ctr')"
   ]
  },
  {
   "cell_type": "markdown",
   "id": "d8b7983f",
   "metadata": {},
   "source": [
    "С помощью сглаживания ctr результат по t-тест стал более правдоподобным, т.к. p-value < 0,05. Тест Манна-Уитни также показывает  p-value <<< 0,05. Для чистоты эксперемента проведу еще несколько тестов. Данный метод позволяет нам отвергнуть Н0."
   ]
  },
  {
   "cell_type": "markdown",
   "id": "b71799cd",
   "metadata": {},
   "source": [
    "## 4. Пуассоновский бутстреп для подсчета разницы в CTR\n",
    "\n",
    "Пуассоновский бутстреп - все лайки делить на все показы в группе, т.е. выдает общегрупповой ctr. Бутстреп сравнивает общий ctr двух групп. Другими словами, мы генерируем из общей выборки псевдовыборки с возвращением. И эти псевдовыборки сравнивем между собой как ГС."
   ]
  },
  {
   "cell_type": "code",
   "execution_count": 75,
   "id": "99057d33",
   "metadata": {},
   "outputs": [],
   "source": [
    "### формирую функцию для бутстрепа\n",
    "\n",
    "def bootstrap(likes1, views1, likes2, views2, n_bootstrap=2000):\n",
    "    ### 2000 раз генерирую веса из распределения Пуассона\n",
    "    poisson_bootstraps1 = stats.poisson(1).rvs(\n",
    "        (n_bootstrap, len(likes1))).astype(np.int64)\n",
    "    poisson_bootstraps2 = stats.poisson(1).rvs(\n",
    "        (n_bootstrap, len(likes2))).astype(np.int64)  \n",
    "    ### расчитываю ctr\n",
    "    globalCTR1 = (poisson_bootstraps1*likes1).sum(axis=1)/(poisson_bootstraps1*views1).sum(axis=1)\n",
    "    globalCTR2 = (poisson_bootstraps2*likes2).sum(axis=1)/(poisson_bootstraps2*views2).sum(axis=1)\n",
    "    return globalCTR1, globalCTR2"
   ]
  },
  {
   "cell_type": "code",
   "execution_count": 76,
   "id": "7d8d635d",
   "metadata": {},
   "outputs": [],
   "source": [
    "### достаю лайки и просмотры для контрольной и эксперементальной группы\n",
    "\n",
    "likes1 = df_g1.likes.to_numpy()\n",
    "views1 = df_g1.views.to_numpy()\n",
    "likes2 = df_g2.likes.to_numpy()\n",
    "views2 = df_g2.views.to_numpy()\n",
    "\n",
    "ctr1, ctr2 = bootstrap(likes1, views1, likes2, views2)"
   ]
  },
  {
   "cell_type": "code",
   "execution_count": 77,
   "id": "a255e24b",
   "metadata": {
    "scrolled": false
   },
   "outputs": [
    {
     "data": {
      "text/plain": [
       "<AxesSubplot:ylabel='Count'>"
      ]
     },
     "execution_count": 77,
     "metadata": {},
     "output_type": "execute_result"
    },
    {
     "data": {
      "image/png": "[encoded data removed]",
      "text/plain": [
       "<Figure size 900x600 with 1 Axes>"
      ]
     },
     "metadata": {},
     "output_type": "display_data"
    }
   ],
   "source": [
    "sns.histplot(ctr1)\n",
    "sns.histplot(ctr2)"
   ]
  },
  {
   "cell_type": "markdown",
   "id": "63cd8bda",
   "metadata": {},
   "source": [
    "Видно, что два распределение даже не пересекаются на гистограмме, а значит, p-value стремится к 0. Поэтому можно утверждать, что в одной из групп глобальный ctr больше, чем в другой. "
   ]
  },
  {
   "cell_type": "code",
   "execution_count": 78,
   "id": "d5b260d8",
   "metadata": {},
   "outputs": [
    {
     "data": {
      "text/plain": [
       "<AxesSubplot:ylabel='Count'>"
      ]
     },
     "execution_count": 78,
     "metadata": {},
     "output_type": "execute_result"
    },
    {
     "data": {
      "image/png": "[encoded data removed]",
      "text/plain": [
       "<Figure size 900x600 with 1 Axes>"
      ]
     },
     "metadata": {},
     "output_type": "display_data"
    }
   ],
   "source": [
    "### разница между глобальными CTR в Пуассоновском бутстрепе\n",
    "\n",
    "sns.histplot(ctr2 - ctr1)"
   ]
  },
  {
   "cell_type": "markdown",
   "id": "b30f1bb6",
   "metadata": {},
   "source": [
    "Гистограмма разности не пересекает 0, а значит, одна группа по ctr строго больше другой. ctr2 - это эксперементальная группа, ctr1 - контрольная. Получается, что распределение не пересекает 0 и находится левее от него, а значит, глобальный ctr в контрольной группе выше, чем в эксперементальной. Значит мы не можем отвергать Н0."
   ]
  },
  {
   "cell_type": "markdown",
   "id": "95fc6f13",
   "metadata": {},
   "source": [
    "## 5. Бакетное преобразование\n",
    "\n",
    "Мы берем наших пользователей и случайным образом делим их на n ведерок(bucket). Нужно гарантировать, что каждый пользователь, в каждой группе попадет ровно в один бакет. Пользователи по бакетам должны быть распределены равномерно. Каждый бакет мы рассматривает как метапользователя и внутри этого метапользователя нам нужно сагригировать показатели для сравнения. "
   ]
  },
  {
   "cell_type": "code",
   "execution_count": 79,
   "id": "0b1a6221",
   "metadata": {},
   "outputs": [],
   "source": [
    "### делаю разбивку прямо в кликхаусе\n",
    "\n",
    "query = '''\n",
    "            SELECT exp_group, bucket,\n",
    "                sum(likes)/sum(views) as bucket_ctr,\n",
    "                quantileExact(0.9)(ctr) as ctr9\n",
    "            FROM (SELECT exp_group, \n",
    "                    xxHash64(user_id)%50 as bucket,\n",
    "                    user_id,\n",
    "                    sum(action = 'like') as likes,\n",
    "                    sum(action = 'view') as views,\n",
    "                    likes/views as ctr\n",
    "                FROM {db}.feed_actions \n",
    "                WHERE toDate(time) between '2023-01-01' and '2023-01-07'\n",
    "                        and exp_group in (1,2)\n",
    "                GROUP BY exp_group, bucket, user_id)\n",
    "            GROUP BY exp_group, bucket\n",
    "        '''\n",
    "\n",
    "df_bucket = ph.read_clickhouse(query, connection=connection)\n"
   ]
  },
  {
   "cell_type": "code",
   "execution_count": 87,
   "id": "c56d9a5c",
   "metadata": {},
   "outputs": [
    {
     "data": {
      "text/html": [
       "<div>\n",
       "<style scoped>\n",
       "    .dataframe tbody tr th:only-of-type {\n",
       "        vertical-align: middle;\n",
       "    }\n",
       "\n",
       "    .dataframe tbody tr th {\n",
       "        vertical-align: top;\n",
       "    }\n",
       "\n",
       "    .dataframe thead th {\n",
       "        text-align: right;\n",
       "    }\n",
       "</style>\n",
       "<table border=\"1\" class=\"dataframe\">\n",
       "  <thead>\n",
       "    <tr style=\"text-align: right;\">\n",
       "      <th></th>\n",
       "      <th>exp_group</th>\n",
       "      <th>bucket</th>\n",
       "      <th>bucket_ctr</th>\n",
       "      <th>ctr9</th>\n",
       "    </tr>\n",
       "  </thead>\n",
       "  <tbody>\n",
       "    <tr>\n",
       "      <th>0</th>\n",
       "      <td>1</td>\n",
       "      <td>0</td>\n",
       "      <td>0.196481</td>\n",
       "      <td>0.307692</td>\n",
       "    </tr>\n",
       "    <tr>\n",
       "      <th>1</th>\n",
       "      <td>2</td>\n",
       "      <td>0</td>\n",
       "      <td>0.194262</td>\n",
       "      <td>0.384615</td>\n",
       "    </tr>\n",
       "    <tr>\n",
       "      <th>2</th>\n",
       "      <td>1</td>\n",
       "      <td>1</td>\n",
       "      <td>0.211887</td>\n",
       "      <td>0.318182</td>\n",
       "    </tr>\n",
       "    <tr>\n",
       "      <th>3</th>\n",
       "      <td>2</td>\n",
       "      <td>1</td>\n",
       "      <td>0.215328</td>\n",
       "      <td>0.467742</td>\n",
       "    </tr>\n",
       "    <tr>\n",
       "      <th>4</th>\n",
       "      <td>1</td>\n",
       "      <td>2</td>\n",
       "      <td>0.206271</td>\n",
       "      <td>0.322314</td>\n",
       "    </tr>\n",
       "    <tr>\n",
       "      <th>...</th>\n",
       "      <td>...</td>\n",
       "      <td>...</td>\n",
       "      <td>...</td>\n",
       "      <td>...</td>\n",
       "    </tr>\n",
       "    <tr>\n",
       "      <th>95</th>\n",
       "      <td>2</td>\n",
       "      <td>47</td>\n",
       "      <td>0.195880</td>\n",
       "      <td>0.426230</td>\n",
       "    </tr>\n",
       "    <tr>\n",
       "      <th>96</th>\n",
       "      <td>1</td>\n",
       "      <td>48</td>\n",
       "      <td>0.212787</td>\n",
       "      <td>0.318182</td>\n",
       "    </tr>\n",
       "    <tr>\n",
       "      <th>97</th>\n",
       "      <td>2</td>\n",
       "      <td>48</td>\n",
       "      <td>0.194502</td>\n",
       "      <td>0.409091</td>\n",
       "    </tr>\n",
       "    <tr>\n",
       "      <th>98</th>\n",
       "      <td>1</td>\n",
       "      <td>49</td>\n",
       "      <td>0.203169</td>\n",
       "      <td>0.325581</td>\n",
       "    </tr>\n",
       "    <tr>\n",
       "      <th>99</th>\n",
       "      <td>2</td>\n",
       "      <td>49</td>\n",
       "      <td>0.196539</td>\n",
       "      <td>0.382979</td>\n",
       "    </tr>\n",
       "  </tbody>\n",
       "</table>\n",
       "<p>100 rows × 4 columns</p>\n",
       "</div>"
      ],
      "text/plain": [
       "    exp_group  bucket  bucket_ctr      ctr9\n",
       "0           1       0    0.196481  0.307692\n",
       "1           2       0    0.194262  0.384615\n",
       "2           1       1    0.211887  0.318182\n",
       "3           2       1    0.215328  0.467742\n",
       "4           1       2    0.206271  0.322314\n",
       "..        ...     ...         ...       ...\n",
       "95          2      47    0.195880  0.426230\n",
       "96          1      48    0.212787  0.318182\n",
       "97          2      48    0.194502  0.409091\n",
       "98          1      49    0.203169  0.325581\n",
       "99          2      49    0.196539  0.382979\n",
       "\n",
       "[100 rows x 4 columns]"
      ]
     },
     "execution_count": 87,
     "metadata": {},
     "output_type": "execute_result"
    }
   ],
   "source": [
    "df_bucket"
   ]
  },
  {
   "cell_type": "code",
   "execution_count": 80,
   "id": "601cfa9d",
   "metadata": {},
   "outputs": [],
   "source": [
    "### создаю отдельный дф для каждой группы\n",
    "\n",
    "df_bucket_g1 = df_bucket[df_bucket.exp_group == 1]\n",
    "df_bucket_g2 = df_bucket[df_bucket.exp_group == 2]"
   ]
  },
  {
   "cell_type": "code",
   "execution_count": 81,
   "id": "f67aedf6",
   "metadata": {},
   "outputs": [
    {
     "data": {
      "text/plain": [
       "MannwhitneyuResult(statistic=1995.0, pvalue=2.859963936492646e-07)"
      ]
     },
     "execution_count": 81,
     "metadata": {},
     "output_type": "execute_result"
    }
   ],
   "source": [
    "### сравниваю средний побекетный ctr в тесте Манна-Уитни\n",
    "\n",
    "stats.mannwhitneyu(df_bucket_g1.bucket_ctr, \n",
    "                   df_bucket_g2.bucket_ctr, \n",
    "                   alternative = 'two-sided')"
   ]
  },
  {
   "cell_type": "markdown",
   "id": "6549f843",
   "metadata": {},
   "source": [
    "При бакетном распределении тест Манна-Уитни показывает разницу. Можно отвергнуть Н0."
   ]
  },
  {
   "cell_type": "code",
   "execution_count": 82,
   "id": "fcb415d9",
   "metadata": {},
   "outputs": [
    {
     "data": {
      "text/plain": [
       "Ttest_indResult(statistic=5.668234732053979, pvalue=3.4455951649945907e-07)"
      ]
     },
     "execution_count": 82,
     "metadata": {},
     "output_type": "execute_result"
    }
   ],
   "source": [
    "### t-тест \n",
    "\n",
    "stats.ttest_ind(df_bucket_g1.bucket_ctr, \n",
    "                df_bucket_g2.bucket_ctr, \n",
    "                equal_var = False)"
   ]
  },
  {
   "cell_type": "markdown",
   "id": "016fe846",
   "metadata": {},
   "source": [
    "При бакетном распределении тест t-тесте также видит разницу. Можно отвергнуть Н0."
   ]
  },
  {
   "cell_type": "code",
   "execution_count": 90,
   "id": "d899cdaf",
   "metadata": {},
   "outputs": [
    {
     "data": {
      "text/plain": [
       "<AxesSubplot:xlabel='ctr9', ylabel='Count'>"
      ]
     },
     "execution_count": 90,
     "metadata": {},
     "output_type": "execute_result"
    },
    {
     "data": {
      "image/png": "[encoded data removed]",
      "text/plain": [
       "<Figure size 900x400 with 2 Axes>"
      ]
     },
     "metadata": {},
     "output_type": "display_data"
    }
   ],
   "source": [
    "f, axs = plt.subplots(1,2, figsize=(9, 4))\n",
    "### строю гистограмму для 1 и 2 группы \n",
    "sns.histplot(df_bucket, x='bucket_ctr', hue='exp_group', palette=['r','b'], ax=axs[0])\n",
    "### строю гистограмму для 1 и 2 группы с 90% квантилем\n",
    "sns.histplot(df_bucket, x='ctr9', hue='exp_group', palette=['r','b'], ax=axs[1])"
   ]
  },
  {
   "cell_type": "code",
   "execution_count": 86,
   "id": "285f6068",
   "metadata": {},
   "outputs": [
    {
     "data": {
      "text/plain": [
       "MannwhitneyuResult(statistic=0.0, pvalue=6.344839189967265e-18)"
      ]
     },
     "execution_count": 86,
     "metadata": {},
     "output_type": "execute_result"
    }
   ],
   "source": [
    "### делаю сравнение по 90% квантилям\n",
    "\n",
    "stats.mannwhitneyu(df_bucket_g1.ctr9, \n",
    "                   df_bucket_g2.ctr9, \n",
    "                   alternative = 'two-sided')"
   ]
  },
  {
   "cell_type": "markdown",
   "id": "38228731",
   "metadata": {},
   "source": [
    "Визуально сравнивая гистограммы видно, что в распределении по 2 группе мода находится левее моды из группы 1, а значит, можно сделать вывод, что побакетный ctr в 1 контрольной группе выше. При тестировании ctr по 90% квантилям видно, что вторая группа показыает более высокий ctr. Данные не однозначны. "
   ]
  },
  {
   "cell_type": "markdown",
   "id": "80728623",
   "metadata": {},
   "source": [
    "## Вывод"
   ]
  },
  {
   "cell_type": "markdown",
   "id": "4034e0e3",
   "metadata": {},
   "source": [
    "При проведении 5 различных тестов выборки по 1 и 2 группе различаются. Показатели говорят, что ctr во 2 эксперементальной группе маньше, чем в 1 контрольной. Результаты A/B теста подтверждают, что в большинстве случаев контрольная группа показала выше показатели ctr, а значит **Н1 отвергаем** и раскатывать новый алгоритм на всех новых пользователях не стоит."
   ]
  }
 ],
 "metadata": {
  "kernelspec": {
   "display_name": "Python 3 (ipykernel)",
   "language": "python",
   "name": "python3"
  },
  "language_info": {
   "codemirror_mode": {
    "name": "ipython",
    "version": 3
   },
   "file_extension": ".py",
   "mimetype": "text/x-python",
   "name": "python",
   "nbconvert_exporter": "python",
   "pygments_lexer": "ipython3",
   "version": "3.9.13"
  }
 },
 "nbformat": 4,
 "nbformat_minor": 5
}
