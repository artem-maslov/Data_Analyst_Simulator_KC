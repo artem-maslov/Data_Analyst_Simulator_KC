{
 "cells": [
  {
   "cell_type": "markdown",
   "id": "0db83405",
   "metadata": {},
   "source": [
    "# Анализ метрики линеаризованных лайков"
   ]
  },
  {
   "cell_type": "markdown",
   "id": "b09af34e",
   "metadata": {},
   "source": [
    "Относительно недавно (в 2018-м году) исследователи из Яндекса разработали классный метод анализа тестов над метриками-отношениями (прямо как у нас) вида  $\\frac {𝑥}{𝑦}$  (У нас $\\frac {clicks}{likes}$).\n",
    "\n",
    "Идея метода заключается в следующем:\n",
    "\n",
    "Вместо того, чтобы заталкивать в тест «поюзерные» CTR, можно сконструировать другую метрику и анализировать ее, но при этом гарантируется (в отличие от сглаженного CTR), что если тест на этой другой метрике «прокрасится» и увидит изменения, значит изменения есть и в метрике исходной (то есть в лайках на пользователя и в пользовательских CTR\n",
    "\n",
    "При этом метод сам по себе очень прост. Что это за метрика такая?\n",
    "\n",
    "Считаем общий CTR в контрольной группе  𝐶𝑇𝑅𝑐𝑜𝑛𝑡𝑟𝑜𝑙=𝑠𝑢𝑚(𝑙𝑖𝑘𝑒𝑠)/𝑠𝑢𝑚(𝑣𝑖𝑒𝑤𝑠) \n",
    "Посчитаем в обеих группах поюзерную метрику  𝑙𝑖𝑛𝑒𝑎𝑟𝑖𝑧𝑒𝑑_𝑙𝑖𝑘𝑒𝑠=𝑙𝑖𝑘𝑒𝑠−𝐶𝑇𝑅𝑐𝑜𝑛𝑡𝑟𝑜𝑙∗𝑣𝑖𝑒𝑤𝑠 \n",
    "После чего сравним  t-тестом отличия в группах по метрике 𝑙𝑖𝑛𝑒𝑎𝑟𝑖𝑧𝑒𝑑_𝑙𝑖𝑘𝑒𝑠  \n",
    "Метод простой, гарантируется, что при приличном размере выборки (как у нас — подойдет) можно бесплатно увеличить чувствительность вашей метрики (или, по крайней мере, не сделать хуже). \n",
    "\n",
    "Задача\n",
    "\n",
    "1. Проанализируйте тест между группами 0 и 3 по метрике линеаризованных лайков. Видно ли отличие? Стало ли 𝑝−𝑣𝑎𝑙𝑢𝑒 меньше?\n",
    "2. Проанализируйте тест между группами 1 и 2 по метрике линеаризованных лайков. Видно ли отличие? Стало ли 𝑝−𝑣𝑎𝑙𝑢𝑒 меньше?\n",
    "\n"
   ]
  },
  {
   "cell_type": "markdown",
   "id": "457e68e4",
   "metadata": {},
   "source": [
    "## Загрузка данных"
   ]
  },
  {
   "cell_type": "code",
   "execution_count": 2,
   "id": "bd9562b8",
   "metadata": {},
   "outputs": [],
   "source": [
    "### импортирую необходимые библиотеки\n",
    "\n",
    "import pandahouse as ph\n",
    "import pandas as pd\n",
    "import seaborn as sns\n",
    "import matplotlib.pyplot as plt\n",
    "import numpy as np\n",
    "from scipy import stats"
   ]
  },
  {
   "cell_type": "code",
   "execution_count": 3,
   "id": "f6f26e9f",
   "metadata": {},
   "outputs": [
    {
     "data": {
      "text/html": [
       "<div>\n",
       "<style scoped>\n",
       "    .dataframe tbody tr th:only-of-type {\n",
       "        vertical-align: middle;\n",
       "    }\n",
       "\n",
       "    .dataframe tbody tr th {\n",
       "        vertical-align: top;\n",
       "    }\n",
       "\n",
       "    .dataframe thead th {\n",
       "        text-align: right;\n",
       "    }\n",
       "</style>\n",
       "<table border=\"1\" class=\"dataframe\">\n",
       "  <thead>\n",
       "    <tr style=\"text-align: right;\">\n",
       "      <th></th>\n",
       "      <th>exp_group</th>\n",
       "      <th>user_id</th>\n",
       "      <th>likes</th>\n",
       "      <th>views</th>\n",
       "      <th>ctr</th>\n",
       "    </tr>\n",
       "  </thead>\n",
       "  <tbody>\n",
       "    <tr>\n",
       "      <th>0</th>\n",
       "      <td>3</td>\n",
       "      <td>115383</td>\n",
       "      <td>9</td>\n",
       "      <td>30</td>\n",
       "      <td>0.300000</td>\n",
       "    </tr>\n",
       "    <tr>\n",
       "      <th>1</th>\n",
       "      <td>1</td>\n",
       "      <td>18392</td>\n",
       "      <td>7</td>\n",
       "      <td>32</td>\n",
       "      <td>0.218750</td>\n",
       "    </tr>\n",
       "    <tr>\n",
       "      <th>2</th>\n",
       "      <td>3</td>\n",
       "      <td>123580</td>\n",
       "      <td>13</td>\n",
       "      <td>48</td>\n",
       "      <td>0.270833</td>\n",
       "    </tr>\n",
       "    <tr>\n",
       "      <th>3</th>\n",
       "      <td>2</td>\n",
       "      <td>131473</td>\n",
       "      <td>14</td>\n",
       "      <td>134</td>\n",
       "      <td>0.104478</td>\n",
       "    </tr>\n",
       "    <tr>\n",
       "      <th>4</th>\n",
       "      <td>2</td>\n",
       "      <td>32420</td>\n",
       "      <td>26</td>\n",
       "      <td>128</td>\n",
       "      <td>0.203125</td>\n",
       "    </tr>\n",
       "  </tbody>\n",
       "</table>\n",
       "</div>"
      ],
      "text/plain": [
       "   exp_group  user_id  likes  views       ctr\n",
       "0          3   115383      9     30  0.300000\n",
       "1          1    18392      7     32  0.218750\n",
       "2          3   123580     13     48  0.270833\n",
       "3          2   131473     14    134  0.104478\n",
       "4          2    32420     26    128  0.203125"
      ]
     },
     "execution_count": 3,
     "metadata": {},
     "output_type": "execute_result"
    }
   ],
   "source": [
    "### подключаюсь к бд\n",
    "\n",
    "connection = {\n",
    "    'host': 'https://clickhouse.lab.karpov.courses',\n",
    "    'password': 'dpo_python_2020',\n",
    "    'user': 'student',\n",
    "    'database': 'simulator_20230120'\n",
    "}\n",
    "\n",
    "\n",
    "### вывожу нужный датафрейм по датам и группам\n",
    "\n",
    "query = ''' \n",
    "            SELECT exp_group, \n",
    "                user_id,\n",
    "                sum(action = 'like') as likes,\n",
    "                sum(action = 'view') as views,\n",
    "                likes/views as ctr\n",
    "            FROM {db}.feed_actions \n",
    "            WHERE toDate(time) between '2023-01-01' and '2023-01-07'\n",
    "                and exp_group in (0,1,2,3)\n",
    "            GROUP BY exp_group, user_id\n",
    "        '''\n",
    "\n",
    "df = ph.read_clickhouse(query, connection=connection)\n",
    "df.head()"
   ]
  },
  {
   "cell_type": "code",
   "execution_count": 12,
   "id": "350f962d",
   "metadata": {},
   "outputs": [
    {
     "name": "stdout",
     "output_type": "stream",
     "text": [
      "0.20823612262916305 0 группа\n",
      "0.20802680490126244 1 группа\n"
     ]
    }
   ],
   "source": [
    "### cчитаю общий ctr в контрольных группах\n",
    "\n",
    "df_g03_cntrlctr = sum(df[df.exp_group == 0].likes)/sum(df[df.exp_group == 0].views)\n",
    "print(df_g03_cntrlctr, '0 группа')\n",
    "\n",
    "df_g12_cntrlctr = sum(df[df.exp_group == 1].likes)/sum(df[df.exp_group == 1].views)\n",
    "print(df_g12_cntrlctr, '1 группа')"
   ]
  },
  {
   "cell_type": "code",
   "execution_count": 16,
   "id": "4cbd2b0c",
   "metadata": {},
   "outputs": [],
   "source": [
    "### cчитаю в обеих группах поюзерную метрику \n",
    "\n",
    "linearized_likes0 = df[df.exp_group == 0].likes - df_g03_cntrlctr * df[df.exp_group == 0].views\n",
    "linearized_likes3 = df[df.exp_group == 3].likes - df_g03_cntrlctr * df[df.exp_group == 3].views\n",
    "\n",
    "linearized_likes1 = df[df.exp_group == 1].likes - df_g12_cntrlctr * df[df.exp_group == 1].views\n",
    "linearized_likes2 = df[df.exp_group == 2].likes - df_g12_cntrlctr * df[df.exp_group == 2].views"
   ]
  },
  {
   "cell_type": "markdown",
   "id": "a9a8c5c6",
   "metadata": {},
   "source": [
    "## 1.  t-тест"
   ]
  },
  {
   "cell_type": "code",
   "execution_count": 17,
   "id": "25f7f242",
   "metadata": {},
   "outputs": [
    {
     "data": {
      "text/plain": [
       "Ttest_indResult(statistic=-15.214995460903827, pvalue=5.4914249479690016e-52)"
      ]
     },
     "execution_count": 17,
     "metadata": {},
     "output_type": "execute_result"
    }
   ],
   "source": [
    "### провожу t-тест для 0 и 3 группы\n",
    "\n",
    "stats.ttest_ind(linearized_likes0,\n",
    "                linearized_likes3,\n",
    "                equal_var=False)"
   ]
  },
  {
   "cell_type": "code",
   "execution_count": 18,
   "id": "35ab02fb",
   "metadata": {},
   "outputs": [
    {
     "data": {
      "text/plain": [
       "Ttest_indResult(statistic=6.122579994775974, pvalue=9.439432187037644e-10)"
      ]
     },
     "execution_count": 18,
     "metadata": {},
     "output_type": "execute_result"
    }
   ],
   "source": [
    "### провожу t-тест для 1 и 2 группы\n",
    "\n",
    "stats.ttest_ind(linearized_likes1,\n",
    "                linearized_likes2,\n",
    "                equal_var=False)"
   ]
  },
  {
   "cell_type": "markdown",
   "id": "8824c0c5",
   "metadata": {},
   "source": [
    "t-тест для группы 0 и 3 и для группы 1 и 2 показал pvalue << 0,05, значит между ними есть статистически значимые различия."
   ]
  },
  {
   "cell_type": "markdown",
   "id": "d3754127",
   "metadata": {},
   "source": [
    "## 2. Визуализирую распределение linearized_likes"
   ]
  },
  {
   "cell_type": "code",
   "execution_count": 20,
   "id": "7f165a73",
   "metadata": {},
   "outputs": [
    {
     "data": {
      "text/html": [
       "<div>\n",
       "<style scoped>\n",
       "    .dataframe tbody tr th:only-of-type {\n",
       "        vertical-align: middle;\n",
       "    }\n",
       "\n",
       "    .dataframe tbody tr th {\n",
       "        vertical-align: top;\n",
       "    }\n",
       "\n",
       "    .dataframe thead th {\n",
       "        text-align: right;\n",
       "    }\n",
       "</style>\n",
       "<table border=\"1\" class=\"dataframe\">\n",
       "  <thead>\n",
       "    <tr style=\"text-align: right;\">\n",
       "      <th></th>\n",
       "      <th>exp_group</th>\n",
       "      <th>user_id</th>\n",
       "      <th>likes</th>\n",
       "      <th>views</th>\n",
       "      <th>ctr</th>\n",
       "      <th>linearized_likes</th>\n",
       "    </tr>\n",
       "  </thead>\n",
       "  <tbody>\n",
       "    <tr>\n",
       "      <th>0</th>\n",
       "      <td>3</td>\n",
       "      <td>115383</td>\n",
       "      <td>9</td>\n",
       "      <td>30</td>\n",
       "      <td>0.300000</td>\n",
       "      <td>2.752916</td>\n",
       "    </tr>\n",
       "    <tr>\n",
       "      <th>1</th>\n",
       "      <td>1</td>\n",
       "      <td>18392</td>\n",
       "      <td>7</td>\n",
       "      <td>32</td>\n",
       "      <td>0.218750</td>\n",
       "      <td>0.343142</td>\n",
       "    </tr>\n",
       "    <tr>\n",
       "      <th>2</th>\n",
       "      <td>3</td>\n",
       "      <td>123580</td>\n",
       "      <td>13</td>\n",
       "      <td>48</td>\n",
       "      <td>0.270833</td>\n",
       "      <td>3.004666</td>\n",
       "    </tr>\n",
       "    <tr>\n",
       "      <th>3</th>\n",
       "      <td>2</td>\n",
       "      <td>131473</td>\n",
       "      <td>14</td>\n",
       "      <td>134</td>\n",
       "      <td>0.104478</td>\n",
       "      <td>-13.875592</td>\n",
       "    </tr>\n",
       "    <tr>\n",
       "      <th>4</th>\n",
       "      <td>2</td>\n",
       "      <td>32420</td>\n",
       "      <td>26</td>\n",
       "      <td>128</td>\n",
       "      <td>0.203125</td>\n",
       "      <td>-0.627431</td>\n",
       "    </tr>\n",
       "  </tbody>\n",
       "</table>\n",
       "</div>"
      ],
      "text/plain": [
       "   exp_group  user_id  likes  views       ctr  linearized_likes\n",
       "0          3   115383      9     30  0.300000          2.752916\n",
       "1          1    18392      7     32  0.218750          0.343142\n",
       "2          3   123580     13     48  0.270833          3.004666\n",
       "3          2   131473     14    134  0.104478        -13.875592\n",
       "4          2    32420     26    128  0.203125         -0.627431"
      ]
     },
     "execution_count": 20,
     "metadata": {},
     "output_type": "execute_result"
    }
   ],
   "source": [
    "### создаю колонку для новой метрики\n",
    "\n",
    "df.loc[df['exp_group'] == 0,'linearized_likes'] = linearized_likes0\n",
    "df.loc[df['exp_group'] == 1,'linearized_likes'] = linearized_likes1\n",
    "df.loc[df['exp_group'] == 2,'linearized_likes'] = linearized_likes2\n",
    "df.loc[df['exp_group'] == 3,'linearized_likes'] = linearized_likes3\n",
    "df.head()"
   ]
  },
  {
   "cell_type": "code",
   "execution_count": 22,
   "id": "a5fd3039",
   "metadata": {},
   "outputs": [],
   "source": [
    "### создаю 2 датафрейма с колонкой новой метрики \n",
    "\n",
    "df_g03 = df.query('exp_group == 0 or exp_group == 3')\n",
    "df_g12 = df.query('exp_group == 1 or exp_group == 2')"
   ]
  },
  {
   "cell_type": "code",
   "execution_count": 28,
   "id": "096a5f7f",
   "metadata": {
    "scrolled": false
   },
   "outputs": [
    {
     "data": {
      "text/plain": [
       "<AxesSubplot:xlabel='linearized_likes', ylabel='Count'>"
      ]
     },
     "execution_count": 28,
     "metadata": {},
     "output_type": "execute_result"
    },
    {
     "data": {
      "image/png": "[encoded data removed]",
      "text/plain": [
       "<Figure size 1200x500 with 2 Axes>"
      ]
     },
     "metadata": {},
     "output_type": "display_data"
    }
   ],
   "source": [
    "f, axs = plt.subplots(1, 2, figsize=(12, 5))\n",
    "\n",
    "sns.histplot(data = df_g03, \n",
    "            x='linearized_likes', \n",
    "            hue='exp_group', \n",
    "            palette = ['r', 'b'],\n",
    "            alpha=0.5,\n",
    "            ax=axs[0],\n",
    "            kde=False)\n",
    "\n",
    "\n",
    "sns.histplot(data = df_g12, \n",
    "              x='linearized_likes', \n",
    "              hue='exp_group', \n",
    "              palette = ['r', 'b'],\n",
    "              alpha=0.5,\n",
    "              ax=axs[1],\n",
    "              kde=False)"
   ]
  },
  {
   "cell_type": "markdown",
   "id": "9b0812bf",
   "metadata": {},
   "source": [
    "## Вывод"
   ]
  },
  {
   "cell_type": "markdown",
   "id": "d093424d",
   "metadata": {},
   "source": [
    "Проведя сравнения метрики линеаризации с обычным ctr можно заключить:\n",
    "\n",
    "* Метод линеаризации значительно повысел чувствительность;\n",
    "* 0, 3 и 1, 2 группы показали в t-тестах статистически значимые различия p-value << 0,05, что было сложно увидеть при обычном ctr, как метрике; \n",
    "* p-value в обоих группах стало значительно меньше."
   ]
  },
  {
   "cell_type": "code",
   "execution_count": null,
   "id": "9b696b9e",
   "metadata": {},
   "outputs": [],
   "source": []
  }
 ],
 "metadata": {
  "kernelspec": {
   "display_name": "Python 3 (ipykernel)",
   "language": "python",
   "name": "python3"
  },
  "language_info": {
   "codemirror_mode": {
    "name": "ipython",
    "version": 3
   },
   "file_extension": ".py",
   "mimetype": "text/x-python",
   "name": "python",
   "nbconvert_exporter": "python",
   "pygments_lexer": "ipython3",
   "version": "3.9.13"
  }
 },
 "nbformat": 4,
 "nbformat_minor": 5
}
