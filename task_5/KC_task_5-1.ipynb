{
 "cells": [
  {
   "cell_type": "markdown",
   "id": "fedecfdd",
   "metadata": {},
   "source": [
    "# Проверка корректности системы сплитования и проведение АА-теста \n",
    "\n",
    "У нас есть данные АА-теста с '2022-12-25' по '2022-12-31'. Вам нужно сделать симуляцию, как будто мы провели 10000 АА-тестов. На каждой итерации вам нужно сформировать подвыборки без повторения в 500 юзеров из 2 и 3 экспериментальной группы. Провести сравнение этих подвыборок t-testом."
   ]
  },
  {
   "cell_type": "code",
   "execution_count": 19,
   "id": "7767109e",
   "metadata": {},
   "outputs": [],
   "source": [
    "### импортирую необходимые библиотеки\n",
    "\n",
    "import pandahouse as ph\n",
    "import pandas as pd\n",
    "import seaborn as sns\n",
    "from scipy import stats"
   ]
  },
  {
   "cell_type": "code",
   "execution_count": 2,
   "id": "3d0957f7",
   "metadata": {},
   "outputs": [],
   "source": [
    "# 1. Подключаюсь к БД\n",
    "\n",
    "connection = {\n",
    "                'host': 'https://clickhouse.lab.karpov.courses',\n",
    "                'password': 'dpo_python_2020',\n",
    "                'user': 'student',\n",
    "                'database': 'simulator_20230120'\n",
    "              }"
   ]
  },
  {
   "cell_type": "code",
   "execution_count": 3,
   "id": "5a4ed804",
   "metadata": {},
   "outputs": [
    {
     "data": {
      "text/html": [
       "<div>\n",
       "<style scoped>\n",
       "    .dataframe tbody tr th:only-of-type {\n",
       "        vertical-align: middle;\n",
       "    }\n",
       "\n",
       "    .dataframe tbody tr th {\n",
       "        vertical-align: top;\n",
       "    }\n",
       "\n",
       "    .dataframe thead th {\n",
       "        text-align: right;\n",
       "    }\n",
       "</style>\n",
       "<table border=\"1\" class=\"dataframe\">\n",
       "  <thead>\n",
       "    <tr style=\"text-align: right;\">\n",
       "      <th></th>\n",
       "      <th>exp_group</th>\n",
       "      <th>user_id</th>\n",
       "      <th>likes</th>\n",
       "      <th>views</th>\n",
       "      <th>ctr</th>\n",
       "    </tr>\n",
       "  </thead>\n",
       "  <tbody>\n",
       "    <tr>\n",
       "      <th>0</th>\n",
       "      <td>3</td>\n",
       "      <td>115383</td>\n",
       "      <td>11</td>\n",
       "      <td>36</td>\n",
       "      <td>0.305556</td>\n",
       "    </tr>\n",
       "    <tr>\n",
       "      <th>1</th>\n",
       "      <td>3</td>\n",
       "      <td>123580</td>\n",
       "      <td>15</td>\n",
       "      <td>92</td>\n",
       "      <td>0.163043</td>\n",
       "    </tr>\n",
       "    <tr>\n",
       "      <th>2</th>\n",
       "      <td>2</td>\n",
       "      <td>131473</td>\n",
       "      <td>26</td>\n",
       "      <td>148</td>\n",
       "      <td>0.175676</td>\n",
       "    </tr>\n",
       "    <tr>\n",
       "      <th>3</th>\n",
       "      <td>2</td>\n",
       "      <td>23985</td>\n",
       "      <td>12</td>\n",
       "      <td>66</td>\n",
       "      <td>0.181818</td>\n",
       "    </tr>\n",
       "    <tr>\n",
       "      <th>4</th>\n",
       "      <td>2</td>\n",
       "      <td>24523</td>\n",
       "      <td>17</td>\n",
       "      <td>120</td>\n",
       "      <td>0.141667</td>\n",
       "    </tr>\n",
       "  </tbody>\n",
       "</table>\n",
       "</div>"
      ],
      "text/plain": [
       "   exp_group  user_id  likes  views       ctr\n",
       "0          3   115383     11     36  0.305556\n",
       "1          3   123580     15     92  0.163043\n",
       "2          2   131473     26    148  0.175676\n",
       "3          2    23985     12     66  0.181818\n",
       "4          2    24523     17    120  0.141667"
      ]
     },
     "execution_count": 3,
     "metadata": {},
     "output_type": "execute_result"
    }
   ],
   "source": [
    "# 2. Вывожу нужный датафрейм по датам и группам\n",
    "\n",
    "query = \"\"\"\n",
    "        SELECT exp_group, \n",
    "            user_id,\n",
    "            sum(action = 'like') as likes,\n",
    "            sum(action = 'view') as views,\n",
    "            likes/views as ctr\n",
    "        FROM {db}.feed_actions \n",
    "        WHERE toDate(time) between '2022-12-25' and '2022-12-31'\n",
    "            and exp_group in (2,3)\n",
    "        GROUP BY exp_group, user_id\n",
    "    \"\"\"\n",
    "\n",
    "df = ph.read_clickhouse(query, connection=connection)\n",
    "df.head()"
   ]
  },
  {
   "cell_type": "code",
   "execution_count": 4,
   "id": "9fa4ed19",
   "metadata": {},
   "outputs": [
    {
     "data": {
      "text/html": [
       "<div>\n",
       "<style scoped>\n",
       "    .dataframe tbody tr th:only-of-type {\n",
       "        vertical-align: middle;\n",
       "    }\n",
       "\n",
       "    .dataframe tbody tr th {\n",
       "        vertical-align: top;\n",
       "    }\n",
       "\n",
       "    .dataframe thead th {\n",
       "        text-align: right;\n",
       "    }\n",
       "</style>\n",
       "<table border=\"1\" class=\"dataframe\">\n",
       "  <thead>\n",
       "    <tr style=\"text-align: right;\">\n",
       "      <th></th>\n",
       "      <th>user_id</th>\n",
       "      <th>likes</th>\n",
       "      <th>views</th>\n",
       "      <th>ctr</th>\n",
       "    </tr>\n",
       "    <tr>\n",
       "      <th>exp_group</th>\n",
       "      <th></th>\n",
       "      <th></th>\n",
       "      <th></th>\n",
       "      <th></th>\n",
       "    </tr>\n",
       "  </thead>\n",
       "  <tbody>\n",
       "    <tr>\n",
       "      <th>2</th>\n",
       "      <td>8480</td>\n",
       "      <td>8480</td>\n",
       "      <td>8480</td>\n",
       "      <td>8480</td>\n",
       "    </tr>\n",
       "    <tr>\n",
       "      <th>3</th>\n",
       "      <td>8569</td>\n",
       "      <td>8569</td>\n",
       "      <td>8569</td>\n",
       "      <td>8569</td>\n",
       "    </tr>\n",
       "  </tbody>\n",
       "</table>\n",
       "</div>"
      ],
      "text/plain": [
       "           user_id  likes  views   ctr\n",
       "exp_group                             \n",
       "2             8480   8480   8480  8480\n",
       "3             8569   8569   8569  8569"
      ]
     },
     "execution_count": 4,
     "metadata": {},
     "output_type": "execute_result"
    }
   ],
   "source": [
    "### проверяю, одианковое ли количесвто пользователей в группах\n",
    "\n",
    "df.groupby('exp_group').count()"
   ]
  },
  {
   "cell_type": "code",
   "execution_count": 11,
   "id": "328627ce",
   "metadata": {
    "scrolled": false
   },
   "outputs": [
    {
     "data": {
      "image/png": "[encoded data removed]",
      "text/plain": [
       "<Figure size 1170x827 with 1 Axes>"
      ]
     },
     "metadata": {},
     "output_type": "display_data"
    }
   ],
   "source": [
    "# 3. Строю гистограмму по ctr каждой группы, чтобы сравнить, одинаковое ли распределение (просто сумма ctr с одинаковым значением наносится на гистограмму).\n",
    "\n",
    "groups = sns.histplot(data = df, \n",
    "              x='ctr', \n",
    "              hue='exp_group', \n",
    "              palette = ['r', 'b'],\n",
    "              alpha=0.5,         \n",
    "              kde=False)\n",
    "\n",
    "#### делаю гистограмму побольше\n",
    "\n",
    "sns.set(rc={'figure.figsize':(10, 7)})"
   ]
  },
  {
   "cell_type": "markdown",
   "id": "1ec5c25e",
   "metadata": {},
   "source": [
    "Распределение выглядит нормальным с небольшими выбросами и визуально обе группы похожи. Перехожу к проверке t-тестом."
   ]
  },
  {
   "cell_type": "code",
   "execution_count": 7,
   "id": "5a11010e",
   "metadata": {},
   "outputs": [],
   "source": [
    "# 4. Создаю отдельный дф для каждой группы \n",
    "\n",
    "df_g2 = df[df.exp_group == 2]\n",
    "df_g3 = df[df.exp_group == 3]"
   ]
  },
  {
   "cell_type": "code",
   "execution_count": 8,
   "id": "2f55f209",
   "metadata": {},
   "outputs": [
    {
     "data": {
      "text/plain": [
       "0       0.903765\n",
       "1       0.345779\n",
       "2       0.273651\n",
       "3       0.593070\n",
       "4       0.612375\n",
       "          ...   \n",
       "9995    0.137441\n",
       "9996    0.814617\n",
       "9997    0.596682\n",
       "9998    0.336510\n",
       "9999    0.078056\n",
       "Length: 10000, dtype: float64"
      ]
     },
     "execution_count": 8,
     "metadata": {},
     "output_type": "execute_result"
    }
   ],
   "source": [
    "# 5. Провожу t-тест 10000 раз с выборками по 500 юзаеров \n",
    "\n",
    "### задаю количество итераций и случайных подвыборок \n",
    "iterations = 10000\n",
    "samples = 500\n",
    "\n",
    "### пустой массив для p-values\n",
    "p_values = []\n",
    "### пишу цикл для массива\n",
    "for i in range(iterations):\n",
    "### беру df.sample - Return a random sample of items from an axis of object. \n",
    "    df_g2_ctr = df_g2.ctr.sample(samples, replace=False) ### replace=False - отключает повторение\n",
    "    df_g3_ctr = df_g3.ctr.sample(samples, replace=False) \n",
    "### провожу t-тест    \n",
    "    t_test = stats.ttest_ind(df_g2_ctr, df_g3_ctr, equal_var=False)[1]\n",
    "### забираю из цикла p-value и добавляю в массив\n",
    "    p_values.append(t_test)  \n",
    "p_values = pd.Series(p_values)\n",
    "\n",
    "p_values"
   ]
  },
  {
   "cell_type": "code",
   "execution_count": 12,
   "id": "57c769e8",
   "metadata": {
    "scrolled": false
   },
   "outputs": [
    {
     "data": {
      "text/plain": [
       "<AxesSubplot:ylabel='Count'>"
      ]
     },
     "execution_count": 12,
     "metadata": {},
     "output_type": "execute_result"
    },
    {
     "data": {
      "image/png": "[encoded data removed]",
      "text/plain": [
       "<Figure size 1000x700 with 1 Axes>"
      ]
     },
     "metadata": {},
     "output_type": "display_data"
    }
   ],
   "source": [
    "# 6. Вывожу все данные на гистограмму \n",
    "\n",
    "sns.histplot(p_values)"
   ]
  },
  {
   "cell_type": "markdown",
   "id": "c26aed04",
   "metadata": {},
   "source": [
    "Все p-values распределены почти равномерно, значит результаты теста не показывают статистически значимых различий между двумя группами."
   ]
  },
  {
   "cell_type": "code",
   "execution_count": 10,
   "id": "5921c1bc",
   "metadata": {},
   "outputs": [
    {
     "data": {
      "text/plain": [
       "4.47"
      ]
     },
     "execution_count": 10,
     "metadata": {},
     "output_type": "execute_result"
    }
   ],
   "source": [
    "# 7. Считаю, какой процент p_values оказался меньше либо равен 0.05\n",
    "\n",
    "p_values_below = round(p_values[p_values <= 0.05].count() / p_values.count() * 100, 2)\n",
    "p_values_below"
   ]
  },
  {
   "cell_type": "code",
   "execution_count": 18,
   "id": "61c8ed31",
   "metadata": {},
   "outputs": [
    {
     "name": "stdout",
     "output_type": "stream",
     "text": [
      "Система сплитования работает корреткно, потому что при проведении 10000 раз АА теста, распределение p-уровней значимости меньше 0,05 получилось в 4.47% случаях. Можно двигаться дальше и проводить AB тест\n"
     ]
    }
   ],
   "source": [
    "# 8. Пишу вывод\n",
    "\n",
    "print('Система сплитования работает корреткно, потому что при проведении 10000 раз АА теста, распределение p-уровней значимости меньше 0,05 получилось в {}% случаях. Можно двигаться дальше и проводить AB тест'.format(p_values_below))"
   ]
  }
 ],
 "metadata": {
  "kernelspec": {
   "display_name": "Python 3 (ipykernel)",
   "language": "python",
   "name": "python3"
  },
  "language_info": {
   "codemirror_mode": {
    "name": "ipython",
    "version": 3
   },
   "file_extension": ".py",
   "mimetype": "text/x-python",
   "name": "python",
   "nbconvert_exporter": "python",
   "pygments_lexer": "ipython3",
   "version": "3.9.13"
  }
 },
 "nbformat": 4,
 "nbformat_minor": 5
}
