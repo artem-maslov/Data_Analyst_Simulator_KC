{
 "cells": [
  {
   "cell_type": "markdown",
   "id": "85d036d3",
   "metadata": {},
   "source": [
    "### task_6\n",
    "\n",
    "Ожидается, что на выходе будет DAG в airflow, который будет считаться каждый день за вчера. \n",
    "\n",
    "1. Параллельно будем обрабатывать две таблицы. В feed_actions для каждого юзера посчитаем число просмотров и лайков контента. В message_actions для каждого юзера считаем, сколько он получает и отсылает сообщений, скольким людям он пишет, сколько людей пишут ему. Каждая выгрузка должна быть в отдельном таске.\n",
    "\n",
    "2. Далее объединяем две таблицы в одну.\n",
    "\n",
    "3. Для этой таблицы считаем все эти метрики в разрезе по полу, возрасту и ос. Делаем три разных таска на каждый срез.\n",
    "\n",
    "4. И финальные данные со всеми метриками записываем в отдельную таблицу в ClickHouse.\n",
    "\n",
    "5. Каждый день таблица должна дополняться новыми данными. \n",
    "\n",
    "Структура финальной таблицы должна быть такая:\n",
    "\n",
    "* Дата - event_date\n",
    "\n",
    "* Название среза - dimension\n",
    "\n",
    "* Значение среза - dimension_value\n",
    "\n",
    "* Число просмотров - views\n",
    "\n",
    "* Числой лайков - likes\n",
    "\n",
    "* Число полученных сообщений - messages_received\n",
    "\n",
    "* Число отправленных сообщений - messages_sent\n",
    "\n",
    "* От скольких пользователей получили сообщения - users_received\n",
    "\n",
    "* Скольким пользователям отправили сообщение - users_sent\n",
    "\n",
    "Срез - это os, gender и age\n",
    "\n",
    "Вашу таблицу необходимо загрузить в схему test, ответ на это задание - название Вашей таблицы в схеме test"
   ]
  },
  {
   "cell_type": "markdown",
   "id": "5679716e",
   "metadata": {},
   "source": [
    "### solution_6"
   ]
  },
  {
   "cell_type": "markdown",
   "id": "d5f91a48",
   "metadata": {},
   "source": [
    "Скрипт .py для airflow представлен в данной директории. Для удобства оценки конечного результата, прилагаю сюда скриншоты рабочего дага.\n",
    "\n",
    "Статус дага:\n",
    "    \n",
    "![](https://github.com/artem-maslov/data_analyst_simulator_KC/blob/main/6_building_ETL_pipelines/task_6_images/S_airflow_status_6.png?raw=true)\n",
    "\n",
    "Дерево дага:\n",
    "\n",
    "![](https://github.com/artem-maslov/data_analyst_simulator_KC/blob/main/6_building_ETL_pipelines/task_6_images/S_airflow_tree_6.png?raw=true)\n",
    "\n",
    "Граф дага:\n",
    "\n",
    "![](https://github.com/artem-maslov/data_analyst_simulator_KC/blob/main/6_building_ETL_pipelines/task_6_images/S_airflow_graph_6.png?raw=true)"
   ]
  }
 ],
 "metadata": {
  "kernelspec": {
   "display_name": "Python 3 (ipykernel)",
   "language": "python",
   "name": "python3"
  },
  "language_info": {
   "codemirror_mode": {
    "name": "ipython",
    "version": 3
   },
   "file_extension": ".py",
   "mimetype": "text/x-python",
   "name": "python",
   "nbconvert_exporter": "python",
   "pygments_lexer": "ipython3",
   "version": "3.9.13"
  }
 },
 "nbformat": 4,
 "nbformat_minor": 5
}
